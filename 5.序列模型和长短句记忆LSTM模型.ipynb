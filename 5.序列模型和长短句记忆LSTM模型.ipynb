{
 "cells": [
  {
   "cell_type": "code",
   "execution_count": 1,
   "metadata": {},
   "outputs": [
    {
     "data": {
      "text/plain": [
       "<torch._C.Generator at 0x26f63627d90>"
      ]
     },
     "execution_count": 1,
     "metadata": {},
     "output_type": "execute_result"
    }
   ],
   "source": [
    "import torch\n",
    "import torch.nn as nn\n",
    "import torch.nn.functional as F\n",
    "import torch.optim as optim\n",
    "\n",
    "torch.manual_seed(1)"
   ]
  },
  {
   "cell_type": "code",
   "execution_count": 2,
   "metadata": {},
   "outputs": [],
   "source": [
    "lstm=nn.LSTM(3,3)\n",
    "inputs=[torch.rand(1,3)for _ in range(5)]\n",
    "\n",
    "hidden=(torch.randn(1,1,3),\n",
    "       torch.randn(1,1,3))\n",
    "\n",
    "for i in inputs:\n",
    "    out,hidden=lstm(i.view(1,1,-1),hidden)\n",
    "\n"
   ]
  },
  {
   "cell_type": "code",
   "execution_count": 3,
   "metadata": {},
   "outputs": [
    {
     "name": "stdout",
     "output_type": "stream",
     "text": [
      "tensor([[[ 0.0672,  0.2668, -0.2215]],\n",
      "\n",
      "        [[ 0.0933,  0.1122, -0.1220]],\n",
      "\n",
      "        [[ 0.1313, -0.0614, -0.1112]],\n",
      "\n",
      "        [[ 0.0404, -0.1227, -0.1019]],\n",
      "\n",
      "        [[ 0.0385, -0.2224, -0.0812]]], grad_fn=<StackBackward>)\n",
      "(tensor([[[ 0.0385, -0.2224, -0.0812]]], grad_fn=<StackBackward>), tensor([[[ 0.0797, -0.3901, -0.4256]]], grad_fn=<StackBackward>))\n"
     ]
    }
   ],
   "source": [
    "inputs=torch.cat(inputs).view(len(inputs),1,-1)\n",
    "hidden=(torch.randn(1,1,3),torch.randn(1,1,3))\n",
    "out,hidden=lstm(inputs,hidden)\n",
    "print(out)\n",
    "print(hidden)"
   ]
  },
  {
   "cell_type": "markdown",
   "metadata": {},
   "source": [
    "# 用LSTM来进行词性标注"
   ]
  },
  {
   "cell_type": "code",
   "execution_count": 6,
   "metadata": {},
   "outputs": [
    {
     "name": "stdout",
     "output_type": "stream",
     "text": [
      "{'The': 0, 'dog': 1, 'ate': 2, 'the': 3, 'apple': 4, 'Everybody': 5, 'read': 6, 'that': 7, 'book': 8}\n"
     ]
    }
   ],
   "source": [
    "def prepare_sequence(seq,to_ix):\n",
    "    idxs=[to_ix[w] for w in seq]\n",
    "    return torch.tensor(idxs,dtype=torch.long)\n",
    "training_data=[\n",
    "    ('The dog ate the apple'.split(),['DET','NN','V','DET','NN']),\n",
    "    ('Everybody read that book'.split(),['NN','V','DET','NN'])\n",
    "]\n",
    "word_to_ix={}\n",
    "for sent,tags in training_data:\n",
    "    for word in sent:\n",
    "        if word not in word_to_ix:\n",
    "            word_to_ix[word]=len(word_to_ix)\n",
    "print(word_to_ix)\n",
    "tag_to_ix={\"DET\":0,\"NN\":1,\"V\":2}\n",
    "\n",
    "EMBEDDING_DIM=6\n",
    "HIDDEN_DIM=6\n"
   ]
  },
  {
   "cell_type": "code",
   "execution_count": 13,
   "metadata": {},
   "outputs": [
    {
     "ename": "SyntaxError",
     "evalue": "invalid syntax (<ipython-input-13-aca781da41a5>, line 14)",
     "output_type": "error",
     "traceback": [
      "\u001b[1;36m  File \u001b[1;32m\"<ipython-input-13-aca781da41a5>\"\u001b[1;36m, line \u001b[1;32m14\u001b[0m\n\u001b[1;33m    def forward(self,sentence):\u001b[0m\n\u001b[1;37m      ^\u001b[0m\n\u001b[1;31mSyntaxError\u001b[0m\u001b[1;31m:\u001b[0m invalid syntax\n"
     ]
    }
   ],
   "source": [
    "class LSTMTagger(nn.Module):\n",
    "    def __init__(self,embedding_dim,hidden_dim,vocab_size,tagset_size):\n",
    "        super(LSTMTagger,self).__init__()\n",
    "        self.hidden_dim=hidden_dim\n",
    "        \n",
    "        self.word_embeddings=nn.Embedding(vocab_size,embedding_dim)\n",
    "        self.lstm=nn.LSTM(embedding_dim,hidden_dim)\n",
    "        self.hidden2tag=nn.Linear(hidden_dim,tagset_size)\n",
    "        self.hidden=self.init_hidden()\n",
    "        \n",
    "    def init_hidden(self):\n",
    "        return (torch.zeros(1,1,self.hidden_dim),(torch.zeros(1,1,self.hidden_dim))\n",
    "    \n",
    "    def forward(self,sentence):\n",
    "        embeds=self.word_embeddings(sentence)\n",
    "        lstm_out,self.hidden=self.lstm(embeds.view(len(sentence),1,-1),self.hidden)\n",
    "        tag_space=self.hidden2tag(lstm_out.view(len(sentence),-1))\n",
    "        tag_scores=F.log_softmax(tag_space,dim=1)\n",
    "        return tag_scores"
   ]
  },
  {
   "cell_type": "code",
   "execution_count": 14,
   "metadata": {},
   "outputs": [
    {
     "ename": "NameError",
     "evalue": "name 'LSTMTagger' is not defined",
     "output_type": "error",
     "traceback": [
      "\u001b[1;31m---------------------------------------------------------------------------\u001b[0m",
      "\u001b[1;31mNameError\u001b[0m                                 Traceback (most recent call last)",
      "\u001b[1;32m<ipython-input-14-dd39b66ecfcf>\u001b[0m in \u001b[0;36m<module>\u001b[1;34m()\u001b[0m\n\u001b[1;32m----> 1\u001b[1;33m \u001b[0mmodel\u001b[0m\u001b[1;33m=\u001b[0m\u001b[0mLSTMTagger\u001b[0m\u001b[1;33m(\u001b[0m\u001b[0mEMBEDDING_DIM\u001b[0m\u001b[1;33m,\u001b[0m\u001b[0mHIDDEN_DIM\u001b[0m\u001b[1;33m,\u001b[0m\u001b[0mlen\u001b[0m\u001b[1;33m(\u001b[0m\u001b[0mword_to_ix\u001b[0m\u001b[1;33m)\u001b[0m\u001b[1;33m,\u001b[0m\u001b[0mlen\u001b[0m\u001b[1;33m(\u001b[0m\u001b[0mtag_to_ix\u001b[0m\u001b[1;33m)\u001b[0m\u001b[1;33m)\u001b[0m\u001b[1;33m\u001b[0m\u001b[0m\n\u001b[0m\u001b[0;32m      2\u001b[0m \u001b[0mloss_function\u001b[0m\u001b[1;33m=\u001b[0m\u001b[0mnn\u001b[0m\u001b[1;33m.\u001b[0m\u001b[0mNULLLoss\u001b[0m\u001b[1;33m(\u001b[0m\u001b[1;33m)\u001b[0m\u001b[1;33m\u001b[0m\u001b[0m\n\u001b[0;32m      3\u001b[0m \u001b[0moptimizer\u001b[0m\u001b[1;33m=\u001b[0m\u001b[0moptim\u001b[0m\u001b[1;33m.\u001b[0m\u001b[0mSGD\u001b[0m\u001b[1;33m(\u001b[0m\u001b[0mmodel\u001b[0m\u001b[1;33m.\u001b[0m\u001b[0mparameters\u001b[0m\u001b[1;33m(\u001b[0m\u001b[1;33m)\u001b[0m\u001b[1;33m,\u001b[0m\u001b[0mlr\u001b[0m\u001b[1;33m=\u001b[0m\u001b[1;36m0.1\u001b[0m\u001b[1;33m)\u001b[0m\u001b[1;33m\u001b[0m\u001b[0m\n",
      "\u001b[1;31mNameError\u001b[0m: name 'LSTMTagger' is not defined"
     ]
    }
   ],
   "source": [
    "model=LSTMTagger(EMBEDDING_DIM,HIDDEN_DIM,len(word_to_ix),len(tag_to_ix))\n",
    "loss_function=nn.NULLLoss()\n",
    "optimizer=optim.SGD(model.parameters(),lr=0.1)\n"
   ]
  },
  {
   "cell_type": "code",
   "execution_count": 17,
   "metadata": {},
   "outputs": [
    {
     "ename": "NameError",
     "evalue": "name 'model' is not defined",
     "output_type": "error",
     "traceback": [
      "\u001b[1;31m---------------------------------------------------------------------------\u001b[0m",
      "\u001b[1;31mNameError\u001b[0m                                 Traceback (most recent call last)",
      "\u001b[1;32m<ipython-input-17-848e89910a92>\u001b[0m in \u001b[0;36m<module>\u001b[1;34m()\u001b[0m\n\u001b[0;32m      1\u001b[0m \u001b[1;32mwith\u001b[0m \u001b[0mtorch\u001b[0m\u001b[1;33m.\u001b[0m\u001b[0mno_grad\u001b[0m\u001b[1;33m(\u001b[0m\u001b[1;33m)\u001b[0m\u001b[1;33m:\u001b[0m\u001b[1;33m\u001b[0m\u001b[0m\n\u001b[0;32m      2\u001b[0m     \u001b[0minputs\u001b[0m\u001b[1;33m=\u001b[0m\u001b[0mprepare_sequence\u001b[0m\u001b[1;33m(\u001b[0m\u001b[0mtraining_data\u001b[0m\u001b[1;33m[\u001b[0m\u001b[1;36m0\u001b[0m\u001b[1;33m]\u001b[0m\u001b[1;33m[\u001b[0m\u001b[1;36m0\u001b[0m\u001b[1;33m]\u001b[0m\u001b[1;33m,\u001b[0m\u001b[0mword_to_ix\u001b[0m\u001b[1;33m)\u001b[0m\u001b[1;33m\u001b[0m\u001b[0m\n\u001b[1;32m----> 3\u001b[1;33m     \u001b[0mtag_scores\u001b[0m\u001b[1;33m=\u001b[0m\u001b[0mmodel\u001b[0m\u001b[1;33m(\u001b[0m\u001b[0minputs\u001b[0m\u001b[1;33m)\u001b[0m\u001b[1;33m\u001b[0m\u001b[0m\n\u001b[0m\u001b[0;32m      4\u001b[0m     \u001b[0mprint\u001b[0m\u001b[1;33m(\u001b[0m\u001b[0mtag_scores\u001b[0m\u001b[1;33m)\u001b[0m\u001b[1;33m\u001b[0m\u001b[0m\n\u001b[0;32m      5\u001b[0m \u001b[1;32mfor\u001b[0m \u001b[0mepoch\u001b[0m \u001b[1;32min\u001b[0m \u001b[0mrange\u001b[0m\u001b[1;33m(\u001b[0m\u001b[1;36m300\u001b[0m\u001b[1;33m)\u001b[0m\u001b[1;33m:\u001b[0m\u001b[1;33m\u001b[0m\u001b[0m\n",
      "\u001b[1;31mNameError\u001b[0m: name 'model' is not defined"
     ]
    }
   ],
   "source": [
    "with torch.no_grad():\n",
    "    inputs=prepare_sequence(training_data[0][0],word_to_ix)\n",
    "    tag_scores=model(inputs)\n",
    "    print(tag_scores)\n",
    "for epoch in range(300):\n",
    "    for sentence,tags in training_data:\n",
    "        model.zero_grad()\n",
    "        model.hidden=model.init_hidden()\n",
    "        sentence_in=prepare_sequence(sentence,word_to_ix)\n",
    "        targets=prepare_sequence(tags,tag_to_ix)\n",
    "        tag_scores=model(sentence_in)\n",
    "        loss=loss_function(tag_scores,targets)\n",
    "        loss.backward()\n",
    "        optimizer.step()\n",
    "        \n",
    "        \n",
    "with torch.no_grad():\n",
    "    inputs=prepare_sequence(training_data[0][0],word_to_ix)\n",
    "    tag_scores=model(inputs)\n",
    "    print(tag_scores)"
   ]
  },
  {
   "cell_type": "raw",
   "metadata": {},
   "source": [
    "# 句子是\"the dog ate the apple\", i,j表示对于单词i, 标签j的得分.    # 我们采用得分最高的标签作为预测的标签. 从下面的输出我们可以看到, 预测得    # 到的结果是01201. 因为索引是从0开始的, 因此第一个值0表示第一行的    # 最大值, 第二个值1表示第二行的最大值, 以此类推. 所以最后的结果是DET    # NOUNVERBDETNOUN, 整个序列都是正确的!"
   ]
  },
  {
   "cell_type": "code",
   "execution_count": null,
   "metadata": {},
   "outputs": [],
   "source": []
  }
 ],
 "metadata": {
  "kernelspec": {
   "display_name": "Python 3",
   "language": "python",
   "name": "python3"
  },
  "language_info": {
   "codemirror_mode": {
    "name": "ipython",
    "version": 3
   },
   "file_extension": ".py",
   "mimetype": "text/x-python",
   "name": "python",
   "nbconvert_exporter": "python",
   "pygments_lexer": "ipython3",
   "version": "3.6.5"
  }
 },
 "nbformat": 4,
 "nbformat_minor": 2
}
